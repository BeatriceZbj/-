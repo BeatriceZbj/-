{
  "nbformat": 4,
  "nbformat_minor": 0,
  "metadata": {
    "colab": {
      "name": "Pandas汇总.ipynb",
      "provenance": [],
      "collapsed_sections": [],
      "authorship_tag": "ABX9TyPPjS+sNYDtFCdrmtHq1hgq",
      "include_colab_link": true
    },
    "kernelspec": {
      "name": "python3",
      "display_name": "Python 3"
    },
    "language_info": {
      "name": "python"
    }
  },
  "cells": [
    {
      "cell_type": "markdown",
      "metadata": {
        "id": "view-in-github",
        "colab_type": "text"
      },
      "source": [
        "<a href=\"https://colab.research.google.com/github/BeatriceZbj/CompetitionData/blob/main/Series.ipynb\" target=\"_parent\"><img src=\"https://colab.research.google.com/assets/colab-badge.svg\" alt=\"Open In Colab\"/></a>"
      ]
    },
    {
      "cell_type": "code",
      "source": [
        "import pandas as pd\n",
        "import numpy as np"
      ],
      "metadata": {
        "id": "DI3Q97elVHf2"
      },
      "execution_count": 9,
      "outputs": []
    },
    {
      "cell_type": "markdown",
      "source": [
        "Series: 一维数组，含标签 \n",
        "\n",
        "Dataframe: 带标签表格型数据结构\n",
        "\n",
        "Panel: 带标签三维数据组"
      ],
      "metadata": {
        "id": "VdanLTSlURdW"
      }
    },
    {
      "cell_type": "markdown",
      "source": [
        "首先我们来整理一下Series常用的操作\n",
        "\n",
        "1. Series的创建：\n",
        "\n",
        "(1) 列表、元组"
      ],
      "metadata": {
        "id": "hjwF2hMIUtuh"
      }
    },
    {
      "cell_type": "code",
      "execution_count": 4,
      "metadata": {
        "colab": {
          "base_uri": "https://localhost:8080/"
        },
        "id": "Mulnq-kkUIv5",
        "outputId": "6a1f3050-6720-4b92-da21-cc55e4ef07dd"
      },
      "outputs": [
        {
          "output_type": "execute_result",
          "data": {
            "text/plain": [
              "0    2\n",
              "1    4\n",
              "dtype: int64"
            ]
          },
          "metadata": {},
          "execution_count": 4
        }
      ],
      "source": [
        "s1 = pd.Series([2,4]) # 列表方式创建\n",
        "s2 = pd.Series((2,4)) # 元组方式创建\n",
        "s1 # 默认的index就是0,1,...,N-1"
      ]
    },
    {
      "cell_type": "markdown",
      "source": [
        "(2) 标量"
      ],
      "metadata": {
        "id": "ABtdmQbmW9Mw"
      }
    },
    {
      "cell_type": "code",
      "source": [
        "s3 = pd.Series(5, index = ['a','b']) # 这里有一个指定索引的过程记住哦\n",
        "s3"
      ],
      "metadata": {
        "colab": {
          "base_uri": "https://localhost:8080/"
        },
        "id": "Kk_b-freV4y8",
        "outputId": "ecfa3ecb-79d3-4a42-f930-354ea1d905bb"
      },
      "execution_count": 5,
      "outputs": [
        {
          "output_type": "execute_result",
          "data": {
            "text/plain": [
              "a    5\n",
              "b    5\n",
              "dtype: int64"
            ]
          },
          "metadata": {},
          "execution_count": 5
        }
      ]
    },
    {
      "cell_type": "markdown",
      "source": [
        "(3) 数组"
      ],
      "metadata": {
        "id": "qyVkLL9xXId3"
      }
    },
    {
      "cell_type": "code",
      "source": [
        "s4 = pd.Series(np.arange(1,5))\n",
        "s4"
      ],
      "metadata": {
        "colab": {
          "base_uri": "https://localhost:8080/"
        },
        "id": "wibrfxXoXGhP",
        "outputId": "c8819d7d-f338-4563-99ed-52bbcc27a840"
      },
      "execution_count": 10,
      "outputs": [
        {
          "output_type": "execute_result",
          "data": {
            "text/plain": [
              "0    1\n",
              "1    2\n",
              "2    3\n",
              "3    4\n",
              "dtype: int64"
            ]
          },
          "metadata": {},
          "execution_count": 10
        }
      ]
    },
    {
      "cell_type": "markdown",
      "source": [
        "(4) 字典"
      ],
      "metadata": {
        "id": "8Fyf-z0zXY_n"
      }
    },
    {
      "cell_type": "code",
      "source": [
        "dict1 = {'a':1, 'b':3, 'c':5, 'd':8}\n",
        "s5 = pd.Series(dict1)\n",
        "s5"
      ],
      "metadata": {
        "colab": {
          "base_uri": "https://localhost:8080/"
        },
        "id": "TRhpl9XiXSbS",
        "outputId": "9f5dc1f2-c90b-495a-8444-cd1f4f48312b"
      },
      "execution_count": 11,
      "outputs": [
        {
          "output_type": "execute_result",
          "data": {
            "text/plain": [
              "a    1\n",
              "b    3\n",
              "c    5\n",
              "d    8\n",
              "dtype: int64"
            ]
          },
          "metadata": {},
          "execution_count": 11
        }
      ]
    },
    {
      "cell_type": "markdown",
      "source": [
        "2. Series的一些属性和方法"
      ],
      "metadata": {
        "id": "2f6gcC5wX6Q1"
      }
    },
    {
      "cell_type": "code",
      "source": [
        "s = pd.Series([1,2,3], index = ['a','b','c'])\n",
        "s.index # 获取索引值"
      ],
      "metadata": {
        "colab": {
          "base_uri": "https://localhost:8080/"
        },
        "id": "3ektdqcDX5mz",
        "outputId": "429eefce-43a7-4fbf-ff27-9c9f6a541b3e"
      },
      "execution_count": 12,
      "outputs": [
        {
          "output_type": "execute_result",
          "data": {
            "text/plain": [
              "Index(['a', 'b', 'c'], dtype='object')"
            ]
          },
          "metadata": {},
          "execution_count": 12
        }
      ]
    },
    {
      "cell_type": "code",
      "source": [
        "s.values # 获取值，注意这里的value是有s的，在计算时常用这个属性"
      ],
      "metadata": {
        "colab": {
          "base_uri": "https://localhost:8080/"
        },
        "id": "ec2HjBzkXpBh",
        "outputId": "a6b90dee-73e7-4773-e7ae-386765c14738"
      },
      "execution_count": 13,
      "outputs": [
        {
          "output_type": "execute_result",
          "data": {
            "text/plain": [
              "array([1, 2, 3])"
            ]
          },
          "metadata": {},
          "execution_count": 13
        }
      ]
    },
    {
      "cell_type": "code",
      "source": [
        "s.index = ['x', 'y', 'z'] # 覆盖之前的索引，注意np.arange()的范围区间\n",
        "s"
      ],
      "metadata": {
        "colab": {
          "base_uri": "https://localhost:8080/"
        },
        "id": "muF7Z2WAYKIa",
        "outputId": "cfbc74dd-3540-4251-a539-64b5b0152862"
      },
      "execution_count": 20,
      "outputs": [
        {
          "output_type": "execute_result",
          "data": {
            "text/plain": [
              "x    1\n",
              "y    2\n",
              "z    3\n",
              "dtype: int64"
            ]
          },
          "metadata": {},
          "execution_count": 20
        }
      ]
    },
    {
      "cell_type": "code",
      "source": [
        "s[2] # 获取单个值，这里是中括号"
      ],
      "metadata": {
        "colab": {
          "base_uri": "https://localhost:8080/"
        },
        "id": "B-43eLxvYRR-",
        "outputId": "c5d56307-7c87-4f09-9405-8dc47e4059ca"
      },
      "execution_count": 16,
      "outputs": [
        {
          "output_type": "execute_result",
          "data": {
            "text/plain": [
              "2"
            ]
          },
          "metadata": {},
          "execution_count": 16
        }
      ]
    },
    {
      "cell_type": "code",
      "source": [
        "s.get(2) # 获取单个值，这里是圆括号（方法）"
      ],
      "metadata": {
        "colab": {
          "base_uri": "https://localhost:8080/"
        },
        "id": "aMws3I_-Ydan",
        "outputId": "69c4ce99-a217-44e7-cb79-ef9880947d39"
      },
      "execution_count": 18,
      "outputs": [
        {
          "output_type": "execute_result",
          "data": {
            "text/plain": [
              "2"
            ]
          },
          "metadata": {},
          "execution_count": 18
        }
      ]
    },
    {
      "cell_type": "markdown",
      "source": [
        "3. Series的切片"
      ],
      "metadata": {
        "id": "laV3p8yrYmVA"
      }
    },
    {
      "cell_type": "code",
      "source": [
        "s[['x']] # 双重中括号取出索引值和其对应的值"
      ],
      "metadata": {
        "colab": {
          "base_uri": "https://localhost:8080/"
        },
        "id": "LVNa4htsYjD1",
        "outputId": "3795697b-7564-4b64-e05b-ca8637626421"
      },
      "execution_count": 21,
      "outputs": [
        {
          "output_type": "execute_result",
          "data": {
            "text/plain": [
              "x    1\n",
              "dtype: int64"
            ]
          },
          "metadata": {},
          "execution_count": 21
        }
      ]
    },
    {
      "cell_type": "code",
      "source": [
        "s['x'] # 取出索引对应的值"
      ],
      "metadata": {
        "colab": {
          "base_uri": "https://localhost:8080/"
        },
        "id": "6BYZ9XjdYwSg",
        "outputId": "2e57d03f-ea7c-4128-b053-d219b95d99a1"
      },
      "execution_count": 23,
      "outputs": [
        {
          "output_type": "execute_result",
          "data": {
            "text/plain": [
              "1"
            ]
          },
          "metadata": {},
          "execution_count": 23
        }
      ]
    },
    {
      "cell_type": "code",
      "source": [
        "s[['x','y']] # 没有指定范围用的是2个中括号"
      ],
      "metadata": {
        "colab": {
          "base_uri": "https://localhost:8080/"
        },
        "id": "7I6mfMQDZJLD",
        "outputId": "a7154cbe-3763-4f54-f6ee-a09e85819391"
      },
      "execution_count": 24,
      "outputs": [
        {
          "output_type": "execute_result",
          "data": {
            "text/plain": [
              "x    1\n",
              "y    2\n",
              "dtype: int64"
            ]
          },
          "metadata": {},
          "execution_count": 24
        }
      ]
    },
    {
      "cell_type": "code",
      "source": [
        "s['x':'z'] # 指定范围用的是1个中括号"
      ],
      "metadata": {
        "colab": {
          "base_uri": "https://localhost:8080/"
        },
        "id": "CFznpp-aZZvY",
        "outputId": "4b46656c-e54d-411e-a0d9-f80affdc87c3"
      },
      "execution_count": 27,
      "outputs": [
        {
          "output_type": "execute_result",
          "data": {
            "text/plain": [
              "x    1\n",
              "y    2\n",
              "z    3\n",
              "dtype: int64"
            ]
          },
          "metadata": {},
          "execution_count": 27
        }
      ]
    },
    {
      "cell_type": "code",
      "source": [
        "s[1:3] # 左闭右开，通过默认索引也可以获取数据"
      ],
      "metadata": {
        "colab": {
          "base_uri": "https://localhost:8080/"
        },
        "id": "lqxPgczeZfh-",
        "outputId": "bd6d0a64-0b38-4f98-87d7-f2962473b09e"
      },
      "execution_count": 29,
      "outputs": [
        {
          "output_type": "execute_result",
          "data": {
            "text/plain": [
              "y    2\n",
              "z    3\n",
              "dtype: int64"
            ]
          },
          "metadata": {},
          "execution_count": 29
        }
      ]
    },
    {
      "cell_type": "code",
      "source": [
        "s[::2] # 开始，结束，步长"
      ],
      "metadata": {
        "colab": {
          "base_uri": "https://localhost:8080/"
        },
        "id": "yDsz8qhwZt9P",
        "outputId": "a441e341-50e1-4aaf-ea90-803003c00fed"
      },
      "execution_count": 31,
      "outputs": [
        {
          "output_type": "execute_result",
          "data": {
            "text/plain": [
              "x    1\n",
              "z    3\n",
              "dtype: int64"
            ]
          },
          "metadata": {},
          "execution_count": 31
        }
      ]
    },
    {
      "cell_type": "markdown",
      "source": [
        "（4）选择和过滤"
      ],
      "metadata": {
        "id": "nUPrZVh8aS3G"
      }
    },
    {
      "cell_type": "code",
      "source": [
        "s[s>2] # 中括号"
      ],
      "metadata": {
        "colab": {
          "base_uri": "https://localhost:8080/"
        },
        "id": "UjGPMxhVZ5IG",
        "outputId": "9a0f6068-c1f6-4d20-838c-d559411b0db0"
      },
      "execution_count": 33,
      "outputs": [
        {
          "output_type": "execute_result",
          "data": {
            "text/plain": [
              "z    3\n",
              "dtype: int64"
            ]
          },
          "metadata": {},
          "execution_count": 33
        }
      ]
    },
    {
      "cell_type": "code",
      "source": [
        "s[(s>1)&(s<3)] # 里面还有多个条件的时候使用圆括号"
      ],
      "metadata": {
        "colab": {
          "base_uri": "https://localhost:8080/"
        },
        "id": "myE3rvRvaX_k",
        "outputId": "0b4b5eb7-1a2c-4d4e-fcb8-1b13dc13175c"
      },
      "execution_count": 34,
      "outputs": [
        {
          "output_type": "execute_result",
          "data": {
            "text/plain": [
              "y    2\n",
              "dtype: int64"
            ]
          },
          "metadata": {},
          "execution_count": 34
        }
      ]
    },
    {
      "cell_type": "code",
      "source": [
        "s[s.index == 'x'] # 中括号中是一个bool值判断, 然后取出为True的那一个"
      ],
      "metadata": {
        "colab": {
          "base_uri": "https://localhost:8080/"
        },
        "id": "bmCugiVSadNP",
        "outputId": "6d25c8ce-3d06-41fa-c637-4a17908ae85d"
      },
      "execution_count": 35,
      "outputs": [
        {
          "output_type": "execute_result",
          "data": {
            "text/plain": [
              "x    1\n",
              "dtype: int64"
            ]
          },
          "metadata": {},
          "execution_count": 35
        }
      ]
    },
    {
      "cell_type": "code",
      "source": [
        "s.index == 'x'"
      ],
      "metadata": {
        "colab": {
          "base_uri": "https://localhost:8080/"
        },
        "id": "cMudBsMbaqvT",
        "outputId": "7c62074f-ec90-44a5-debd-071f1bb6d5d9"
      },
      "execution_count": 37,
      "outputs": [
        {
          "output_type": "execute_result",
          "data": {
            "text/plain": [
              "array([ True, False, False])"
            ]
          },
          "metadata": {},
          "execution_count": 37
        }
      ]
    },
    {
      "cell_type": "markdown",
      "source": [
        "（5）Series的运算"
      ],
      "metadata": {
        "id": "cwoEPEN-a1yj"
      }
    },
    {
      "cell_type": "code",
      "source": [
        "s*2"
      ],
      "metadata": {
        "colab": {
          "base_uri": "https://localhost:8080/"
        },
        "id": "HL_LMAeearuW",
        "outputId": "6e6f39b5-f435-4ffd-c83c-9a2c08ac8f2d"
      },
      "execution_count": 38,
      "outputs": [
        {
          "output_type": "execute_result",
          "data": {
            "text/plain": [
              "x    2\n",
              "y    4\n",
              "z    6\n",
              "dtype: int64"
            ]
          },
          "metadata": {},
          "execution_count": 38
        }
      ]
    },
    {
      "cell_type": "code",
      "source": [
        "s+s"
      ],
      "metadata": {
        "colab": {
          "base_uri": "https://localhost:8080/"
        },
        "id": "9LuZgOWaa5mz",
        "outputId": "96578121-5a5e-4b1d-a320-42578c644e02"
      },
      "execution_count": 39,
      "outputs": [
        {
          "output_type": "execute_result",
          "data": {
            "text/plain": [
              "x    2\n",
              "y    4\n",
              "z    6\n",
              "dtype: int64"
            ]
          },
          "metadata": {},
          "execution_count": 39
        }
      ]
    },
    {
      "cell_type": "code",
      "source": [
        "s.isnull() #缺失值的判断"
      ],
      "metadata": {
        "colab": {
          "base_uri": "https://localhost:8080/"
        },
        "id": "IhMUiwELa6oc",
        "outputId": "95d6a061-b474-49aa-e34d-d9fca9ffde9c"
      },
      "execution_count": 40,
      "outputs": [
        {
          "output_type": "execute_result",
          "data": {
            "text/plain": [
              "x    False\n",
              "y    False\n",
              "z    False\n",
              "dtype: bool"
            ]
          },
          "metadata": {},
          "execution_count": 40
        }
      ]
    },
    {
      "cell_type": "code",
      "source": [
        "s.isna() # 另一种缺失值的判断"
      ],
      "metadata": {
        "colab": {
          "base_uri": "https://localhost:8080/"
        },
        "id": "n0VKhCfda8rt",
        "outputId": "2821f4dd-3393-4b40-fc9e-0d6fa4398807"
      },
      "execution_count": 41,
      "outputs": [
        {
          "output_type": "execute_result",
          "data": {
            "text/plain": [
              "x    False\n",
              "y    False\n",
              "z    False\n",
              "dtype: bool"
            ]
          },
          "metadata": {},
          "execution_count": 41
        }
      ]
    },
    {
      "cell_type": "code",
      "source": [
        "s.isnull().sum() # 统计多少个缺失值,或试一下s.isnull().values.sum()"
      ],
      "metadata": {
        "colab": {
          "base_uri": "https://localhost:8080/"
        },
        "id": "C3LR1r5Wa_4P",
        "outputId": "6c547dc5-df2d-4242-c5dc-cee526889372"
      },
      "execution_count": 49,
      "outputs": [
        {
          "output_type": "execute_result",
          "data": {
            "text/plain": [
              "0"
            ]
          },
          "metadata": {},
          "execution_count": 49
        }
      ]
    },
    {
      "cell_type": "markdown",
      "source": [
        "(6) 序列的名字和索引的名字"
      ],
      "metadata": {
        "id": "b1E-VQGzbmX_"
      }
    },
    {
      "cell_type": "code",
      "source": [
        "s.name = 'test' # 表示序列的名字\n",
        "s"
      ],
      "metadata": {
        "colab": {
          "base_uri": "https://localhost:8080/"
        },
        "id": "ToMFCfGhbbDo",
        "outputId": "ae23e3fa-36d5-4388-c35b-d045c102fd9f"
      },
      "execution_count": 52,
      "outputs": [
        {
          "output_type": "execute_result",
          "data": {
            "text/plain": [
              "x    1\n",
              "y    2\n",
              "z    3\n",
              "Name: test, dtype: int64"
            ]
          },
          "metadata": {},
          "execution_count": 52
        }
      ]
    },
    {
      "cell_type": "code",
      "source": [
        "s.index.name = 'test2' # 索引的名字\n",
        "s"
      ],
      "metadata": {
        "colab": {
          "base_uri": "https://localhost:8080/"
        },
        "id": "vg7O6J8UbuuS",
        "outputId": "dd017cc0-9749-416e-ab6f-aaf42c513db7"
      },
      "execution_count": 53,
      "outputs": [
        {
          "output_type": "execute_result",
          "data": {
            "text/plain": [
              "test2\n",
              "x    1\n",
              "y    2\n",
              "z    3\n",
              "Name: test, dtype: int64"
            ]
          },
          "metadata": {},
          "execution_count": 53
        }
      ]
    },
    {
      "cell_type": "code",
      "source": [
        ""
      ],
      "metadata": {
        "id": "Ll1sL2-9b0gp"
      },
      "execution_count": null,
      "outputs": []
    }
  ]
}